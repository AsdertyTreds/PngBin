{
 "cells": [
  {
   "cell_type": "markdown",
   "metadata": {},
   "source": [
    "# Metadata Database File Updater\n",
    "\n",
    "This notebook helps you add your list of image urls to metadata database file."
   ]
  },
  {
   "cell_type": "markdown",
   "metadata": {},
   "source": [
    "#### How to use:\n",
    "- Modify the [**configurations**](#Configurations) as needed.\n",
    "- At menu bar, select Run > Run All Cells.\n",
    "- Scroll to the end of this notebook for a progress output."
   ]
  },
  {
   "cell_type": "markdown",
   "metadata": {},
   "source": [
    "## Configurations"
   ]
  },
  {
   "cell_type": "markdown",
   "metadata": {},
   "source": [
    "---\n",
    "Path to an existing metadata database file produced by the PngBin Creator.\n",
    "> This must exist."
   ]
  },
  {
   "cell_type": "code",
   "execution_count": null,
   "metadata": {},
   "outputs": [],
   "source": [
    "META_PATH = 'outputs/meta.db'"
   ]
  },
  {
   "cell_type": "markdown",
   "metadata": {},
   "source": [
    "---\n",
    "Path to a file which contains a list of uploaded image urls produced by the Uploader.\n",
    "> This must exist."
   ]
  },
  {
   "cell_type": "code",
   "execution_count": null,
   "metadata": {},
   "outputs": [],
   "source": [
    "URLS_PATH = 'outputs/urls.txt'"
   ]
  },
  {
   "cell_type": "markdown",
   "metadata": {},
   "source": [
    "---"
   ]
  },
  {
   "cell_type": "markdown",
   "metadata": {},
   "source": [
    "### Import"
   ]
  },
  {
   "cell_type": "code",
   "execution_count": null,
   "metadata": {},
   "outputs": [],
   "source": [
    "import os\n",
    "import sqlite3"
   ]
  },
  {
   "cell_type": "markdown",
   "metadata": {},
   "source": [
    "### Basic Configuration Validation"
   ]
  },
  {
   "cell_type": "code",
   "execution_count": null,
   "metadata": {},
   "outputs": [],
   "source": [
    "assert os.path.isfile(META_PATH), 'META_PATH must exist and be a file.'\n",
    "assert os.path.isfile(URLS_PATH), 'URLS_PATH must exist and be a file.'"
   ]
  },
  {
   "cell_type": "markdown",
   "metadata": {},
   "source": [
    "### Update It"
   ]
  },
  {
   "cell_type": "code",
   "execution_count": null,
   "metadata": {},
   "outputs": [],
   "source": [
    "def iter_url_name():\n",
    "    with open(URLS_PATH, 'r') as f:\n",
    "        while True:\n",
    "            name = f.readline().strip()\n",
    "            if not name:\n",
    "                break\n",
    "            url = f.readline().strip()\n",
    "            yield url, name\n",
    "            f.readline()\n",
    "\n",
    "\n",
    "conn = sqlite3.connect(META_PATH)\n",
    "try:\n",
    "    with conn:\n",
    "        conn.executemany(\n",
    "            'INSERT INTO urls (url, images_id) VALUES (?, (SELECT id FROM images WHERE name=?))',\n",
    "            iter_url_name()\n",
    "        )\n",
    "    \n",
    "finally:\n",
    "    conn.close()"
   ]
  }
 ],
 "metadata": {
  "kernelspec": {
   "display_name": "Python 3",
   "language": "python",
   "name": "python3"
  },
  "language_info": {
   "codemirror_mode": {
    "name": "ipython",
    "version": 3
   },
   "file_extension": ".py",
   "mimetype": "text/x-python",
   "name": "python",
   "nbconvert_exporter": "python",
   "pygments_lexer": "ipython3",
   "version": "3.8.6"
  }
 },
 "nbformat": 4,
 "nbformat_minor": 4
}
