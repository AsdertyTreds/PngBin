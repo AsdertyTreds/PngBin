{
 "cells": [
  {
   "cell_type": "markdown",
   "metadata": {},
   "source": [
    "# PngBin Creator\n",
    "\n",
    "This notebook helps you convert a whole directory of files into a series of PngBin images and a corresponding metadata database file."
   ]
  },
  {
   "cell_type": "markdown",
   "metadata": {},
   "source": [
    "#### How to use:\n",
    "- Modify the [**configurations**](#Configurations) as needed.\n",
    "- At menu bar, select Run > Run All Cells.\n",
    "- Scroll to the end of this notebook for a progress output."
   ]
  },
  {
   "cell_type": "markdown",
   "metadata": {},
   "source": [
    "## Configurations"
   ]
  },
  {
   "cell_type": "markdown",
   "metadata": {},
   "source": [
    "---\n",
    "Path to a directory that contains your files you want to convert to PngBin images.\n",
    "> It must exist and contain at least one file.  \n",
    "> Any empty folders will be ignored."
   ]
  },
  {
   "cell_type": "code",
   "execution_count": null,
   "metadata": {},
   "outputs": [],
   "source": [
    "INPUT_DIR = 'myfiles'"
   ]
  },
  {
   "cell_type": "markdown",
   "metadata": {},
   "source": [
    "---\n",
    "Path to a directory that will store output PngBin images.\n",
    "> If it doesn't exist, It will be automatically created."
   ]
  },
  {
   "cell_type": "code",
   "execution_count": null,
   "metadata": {},
   "outputs": [],
   "source": [
    "OUTPUT_DIR = 'outputs/images'"
   ]
  },
  {
   "cell_type": "markdown",
   "metadata": {},
   "source": [
    "---\n",
    "Path to an output metadata database file.\n",
    "> If it exists, new metadata will be added.  \n",
    "> If it doesn't exist, It will be automatically created."
   ]
  },
  {
   "cell_type": "code",
   "execution_count": null,
   "metadata": {},
   "outputs": [],
   "source": [
    "META_PATH = 'outputs/meta.db'"
   ]
  },
  {
   "cell_type": "markdown",
   "metadata": {},
   "source": [
    "---\n",
    "Width and height of the output images.\n",
    "> The multiple of `WIDTH` and `HEIGHT` must be divisible by 4."
   ]
  },
  {
   "cell_type": "code",
   "execution_count": null,
   "metadata": {},
   "outputs": [],
   "source": [
    "WIDTH, HEIGHT = 2508, 2508"
   ]
  },
  {
   "cell_type": "markdown",
   "metadata": {},
   "source": [
    "---\n",
    "Filename format for output images.\n",
    "> It must have exactly one placeholder `%d` as the incremental number.  \n",
    "> Tip: By using `%04d` will make it a 4-zero padding number. (e.g. IMAGE_0069.png)"
   ]
  },
  {
   "cell_type": "code",
   "execution_count": null,
   "metadata": {},
   "outputs": [],
   "source": [
    "FN_FORMAT = 'IMAGE_%02d.png'"
   ]
  },
  {
   "cell_type": "markdown",
   "metadata": {},
   "source": [
    "#### Note on filename and incremental number.\n",
    "Each PngBin image output will have filenames as specified by `FN_FORMAT` and the `%d` will be replaced by the incremental number.  \n",
    "Each filenames will also be used as identifier for updating `urls` in metadata database file.  \n",
    "The incremental number will also be used as `id` for each images in metadata database file.  \n",
    "The incremental number will start with the largest value `id` in metadata database file added by 1.  \n",
    "If there is no `id` in metadata database file (empty database), then it will start with number 1.\n",
    "\n",
    "---"
   ]
  },
  {
   "cell_type": "markdown",
   "metadata": {},
   "source": [
    "### Import"
   ]
  },
  {
   "cell_type": "code",
   "execution_count": null,
   "metadata": {},
   "outputs": [],
   "source": [
    "import os\n",
    "import sqlite3\n",
    "import itertools\n",
    "\n",
    "try:\n",
    "    from pngbin import ChainWriter\n",
    "except ModuleNotFoundError:\n",
    "    import sys\n",
    "    sys.path.append(os.path.abspath('..'))\n",
    "    from pngbin import ChainWriter"
   ]
  },
  {
   "cell_type": "markdown",
   "metadata": {},
   "source": [
    "### Basic Configuration Validation"
   ]
  },
  {
   "cell_type": "code",
   "execution_count": null,
   "metadata": {},
   "outputs": [],
   "source": [
    "assert os.path.isdir(INPUT_DIR), 'INPUT_DIR must exist and be a directory.'\n",
    "assert any(x[2] for x in os.walk(INPUT_DIR)), 'INPUT_DIR must contain at least one file.'\n",
    "assert not os.path.exists(OUTPUT_DIR) or os.path.isdir(OUTPUT_DIR), 'OUTPUT_DIR must be a directory if it exists.'\n",
    "assert not os.path.exists(META_PATH) or os.path.isfile(META_PATH), 'META_PATH must be a file if it exists.'\n",
    "assert WIDTH * HEIGHT % 4 == 0, 'The multiple of WIDTH and HEIGHT must be divisible by 4.'\n",
    "assert all(x > 0 for x in [WIDTH, HEIGHT]), 'WIDTH and HEIGHT must have value more then 0.'\n",
    "\n",
    "if not os.path.exists(OUTPUT_DIR):\n",
    "    os.makedirs(OUTPUT_DIR)\n",
    "\n",
    "_META_DIR = os.path.split(META_PATH)[0]\n",
    "if not os.path.exists(_META_DIR):\n",
    "    os.makedirs(_META_DIR)"
   ]
  },
  {
   "cell_type": "markdown",
   "metadata": {},
   "source": [
    "### Metadata Database Creation"
   ]
  },
  {
   "cell_type": "code",
   "execution_count": null,
   "metadata": {},
   "outputs": [],
   "source": [
    "_META_CREATE_SQL = \"\"\"\n",
    "CREATE TABLE \"images\" (\n",
    "\t\"id\"\tINTEGER,\n",
    "\t\"key\"\tBLOB NOT NULL,\n",
    "\t\"iv\"\tBLOB NOT NULL,\n",
    "\t\"width\"\tINTEGER NOT NULL,\n",
    "\t\"height\"\tINTEGER NOT NULL,\n",
    "\t\"name\"\tTEXT NOT NULL,\n",
    "\tPRIMARY KEY(\"id\")\n",
    ");\n",
    "CREATE TABLE \"files\" (\n",
    "\t\"offset\"\tINTEGER NOT NULL,\n",
    "\t\"length\"\tINTEGER NOT NULL,\n",
    "\t\"path\"\tTEXT NOT NULL UNIQUE,\n",
    "\t\"images_id\"\tINTEGER NOT NULL,\n",
    "\tFOREIGN KEY(\"images_id\") REFERENCES \"images\"(\"id\")\n",
    ");\n",
    "CREATE TABLE \"urls\" (\n",
    "\t\"url\"\tTEXT NOT NULL UNIQUE,\n",
    "\t\"images_id\"\tINTEGER NOT NULL,\n",
    "\tFOREIGN KEY(\"images_id\") REFERENCES \"images\"(\"id\")\n",
    ");\n",
    "CREATE UNIQUE INDEX \"idx_files_path\" ON \"files\" (\n",
    "\t\"path\"\n",
    ");\n",
    "CREATE INDEX \"idx_urls_images_id\" ON \"urls\" (\n",
    "\t\"images_id\"\n",
    ");\n",
    "\"\"\"\n",
    "\n",
    "new_meta = not os.path.exists(META_PATH)\n",
    "conn = sqlite3.connect(META_PATH)\n",
    "try:\n",
    "    if new_meta:\n",
    "        with conn:\n",
    "            conn.executescript(_META_CREATE_SQL)\n",
    "\n",
    "    x = conn.execute('SELECT MAX(id) FROM \"images\"').fetchone()[0]\n",
    "    _START_ID = 1 if x is None else x + 1\n",
    "    \n",
    "finally:\n",
    "    conn.close()"
   ]
  },
  {
   "cell_type": "markdown",
   "metadata": {},
   "source": [
    "### Global dict and functions declaration"
   ]
  },
  {
   "cell_type": "code",
   "execution_count": null,
   "metadata": {},
   "outputs": [],
   "source": [
    "D = {}\n",
    "\n",
    "def iter_info():\n",
    "    for img_id in itertools.count(_START_ID):\n",
    "        name = FN_FORMAT % img_id\n",
    "        D.update({\n",
    "            'fobj': open(os.path.join(OUTPUT_DIR, name), 'xb'),\n",
    "            'width': WIDTH,\n",
    "            'height': HEIGHT,\n",
    "            'id': img_id,\n",
    "            'name': name\n",
    "        })\n",
    "        print(name)\n",
    "        yield dict((k, D[k]) for k in ['fobj', 'width', 'height'])\n",
    "        # Call close manually because ChainWriter only finishes\n",
    "        # the image file automatically, but does not close.\n",
    "        D['fobj'].close()\n",
    "\n",
    "def on_writer_created(w):\n",
    "    D['conn'].execute(\n",
    "        'INSERT INTO images (id, key, iv, width, height, name) '\n",
    "        'VALUES (:id, :key, :iv, :width, :height, :name)',\n",
    "        dict(D, key=w.key, iv=w.iv)\n",
    "    )\n",
    "\n",
    "def iter_file(writer):\n",
    "    abs_input_dir = os.path.abspath(INPUT_DIR)\n",
    "    for parent, _, filenames in os.walk(abs_input_dir):\n",
    "        for abs_path in (os.path.join(parent, x) for x in filenames):\n",
    "            D['conn'].execute(\n",
    "                'INSERT INTO files (offset, length, path, images_id) '\n",
    "                'VALUES (:offset, :length, :path, :images_id)',\n",
    "                {\n",
    "                    'offset': writer.tell() % (WIDTH * HEIGHT * 4),\n",
    "                    'length': os.path.getsize(abs_path),\n",
    "                    'path': os.path.relpath(abs_path, abs_input_dir).replace('\\\\', '/'),\n",
    "                    'images_id': D.get('id', _START_ID)\n",
    "                }\n",
    "            )\n",
    "            yield abs_path\n",
    "\n",
    "def copy_stream(reader, writer, buffer_size=2**20):\n",
    "    while True:\n",
    "        data = reader.read(buffer_size)\n",
    "        if not data:\n",
    "            break\n",
    "        writer.write(data)"
   ]
  },
  {
   "cell_type": "markdown",
   "metadata": {},
   "source": [
    "### Working the Magic"
   ]
  },
  {
   "cell_type": "code",
   "execution_count": null,
   "metadata": {},
   "outputs": [],
   "source": [
    "D['conn'] = sqlite3.connect(META_PATH)\n",
    "try:\n",
    "    with D['conn']:\n",
    "        with ChainWriter(iter_info(), True, on_writer_created) as writer:\n",
    "            for path in iter_file(writer):\n",
    "                with open(path, 'rb') as f:\n",
    "                    copy_stream(f, writer)\n",
    "    print('DONE!')\n",
    "finally:\n",
    "    D['conn'].close()\n",
    "    if 'fobj' in D:\n",
    "        # This will close the last image file object.\n",
    "        D['fobj'].close()"
   ]
  }
 ],
 "metadata": {
  "kernelspec": {
   "display_name": "Python 3",
   "language": "python",
   "name": "python3"
  },
  "language_info": {
   "codemirror_mode": {
    "name": "ipython",
    "version": 3
   },
   "file_extension": ".py",
   "mimetype": "text/x-python",
   "name": "python",
   "nbconvert_exporter": "python",
   "pygments_lexer": "ipython3",
   "version": "3.8.6"
  }
 },
 "nbformat": 4,
 "nbformat_minor": 4
}
